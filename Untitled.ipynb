{
 "cells": [
  {
   "cell_type": "code",
   "execution_count": 1,
   "id": "0f3e6241-c617-49b4-b450-0d39b259ba8a",
   "metadata": {},
   "outputs": [],
   "source": [
    "# list\n"
   ]
  },
  {
   "cell_type": "code",
   "execution_count": 2,
   "id": "98c9981c-a214-4d6c-a915-0039f0178a53",
   "metadata": {},
   "outputs": [],
   "source": [
    "gro = [\"tree\", \"oyy\" ,\"jtbg\"]\n"
   ]
  },
  {
   "cell_type": "code",
   "execution_count": 3,
   "id": "059fdea5-5b63-4443-9429-f7eb1e6174e4",
   "metadata": {},
   "outputs": [
    {
     "data": {
      "text/plain": [
       "list"
      ]
     },
     "execution_count": 3,
     "metadata": {},
     "output_type": "execute_result"
    }
   ],
   "source": [
    "type(gro)"
   ]
  },
  {
   "cell_type": "code",
   "execution_count": 4,
   "id": "8772adce-4ed4-4a00-878d-45597c87ebe8",
   "metadata": {},
   "outputs": [
    {
     "data": {
      "text/plain": [
       "['tree', 'oyy', 'jtbg']"
      ]
     },
     "execution_count": 4,
     "metadata": {},
     "output_type": "execute_result"
    }
   ],
   "source": [
    "gro"
   ]
  },
  {
   "cell_type": "code",
   "execution_count": 7,
   "id": "4f0006a0-6f82-4dec-8fea-9a48f8b93a4f",
   "metadata": {},
   "outputs": [],
   "source": [
    "list1 = [\"banana\",\"apple\",\"orange\",\"lemon\"]"
   ]
  },
  {
   "cell_type": "code",
   "execution_count": 8,
   "id": "2557d9b9-5fa0-42e6-a1da-1c6c9c12eb89",
   "metadata": {},
   "outputs": [
    {
     "data": {
      "text/plain": [
       "['banana', 'apple', 'orange', 'lemon']"
      ]
     },
     "execution_count": 8,
     "metadata": {},
     "output_type": "execute_result"
    }
   ],
   "source": [
    "list1"
   ]
  },
  {
   "cell_type": "code",
   "execution_count": 15,
   "id": "88a89af6-b9a9-4a78-abbd-2fd9a9ea67e7",
   "metadata": {},
   "outputs": [
    {
     "ename": "AttributeError",
     "evalue": "'tuple' object has no attribute 'insert'",
     "output_type": "error",
     "traceback": [
      "\u001b[0;31m---------------------------------------------------------------------------\u001b[0m",
      "\u001b[0;31mAttributeError\u001b[0m                            Traceback (most recent call last)",
      "Cell \u001b[0;32mIn[15], line 1\u001b[0m\n\u001b[0;32m----> 1\u001b[0m \u001b[43mlist1\u001b[49m\u001b[38;5;241;43m.\u001b[39;49m\u001b[43minsert\u001b[49m(\u001b[38;5;241m1\u001b[39m, \u001b[38;5;124m\"\u001b[39m\u001b[38;5;124mhoney\u001b[39m\u001b[38;5;124m\"\u001b[39m)\n",
      "\u001b[0;31mAttributeError\u001b[0m: 'tuple' object has no attribute 'insert'"
     ]
    }
   ],
   "source": [
    "list1.insert(1, \"honey\")"
   ]
  },
  {
   "cell_type": "code",
   "execution_count": 16,
   "id": "0fbff664-7e0d-40f9-af49-ac6a69d61ac6",
   "metadata": {},
   "outputs": [
    {
     "data": {
      "text/plain": [
       "(1, 'honey')"
      ]
     },
     "execution_count": 16,
     "metadata": {},
     "output_type": "execute_result"
    }
   ],
   "source": [
    "list1"
   ]
  },
  {
   "cell_type": "code",
   "execution_count": null,
   "id": "9fc09c2c-e955-4bd7-a16d-1940d3d4ba57",
   "metadata": {},
   "outputs": [],
   "source": [
    "bus_seat = [\"honey\",\"prakhar\",\"avnish\",\"nikhil\"]"
   ]
  },
  {
   "cell_type": "code",
   "execution_count": 27,
   "id": "60caedb6-c532-419d-9e7c-b5f28c1526be",
   "metadata": {},
   "outputs": [
    {
     "ename": "NameError",
     "evalue": "name 'bus_seat' is not defined",
     "output_type": "error",
     "traceback": [
      "\u001b[0;31m---------------------------------------------------------------------------\u001b[0m",
      "\u001b[0;31mNameError\u001b[0m                                 Traceback (most recent call last)",
      "Cell \u001b[0;32mIn[27], line 1\u001b[0m\n\u001b[0;32m----> 1\u001b[0m \u001b[43mbus_seat\u001b[49m\n",
      "\u001b[0;31mNameError\u001b[0m: name 'bus_seat' is not defined"
     ]
    }
   ],
   "source": [
    "bus_seat"
   ]
  },
  {
   "cell_type": "code",
   "execution_count": null,
   "id": "dc633197-e33e-4568-a0a6-1cd075d09276",
   "metadata": {},
   "outputs": [],
   "source": []
  },
  {
   "cell_type": "code",
   "execution_count": null,
   "id": "29153098-56d5-4478-befe-60e7e6d599fe",
   "metadata": {},
   "outputs": [],
   "source": []
  },
  {
   "cell_type": "code",
   "execution_count": null,
   "id": "20918316-0269-40a1-80aa-1a2c67cba201",
   "metadata": {},
   "outputs": [],
   "source": []
  }
 ],
 "metadata": {
  "kernelspec": {
   "display_name": "Python 3 (ipykernel)",
   "language": "python",
   "name": "python3"
  },
  "language_info": {
   "codemirror_mode": {
    "name": "ipython",
    "version": 3
   },
   "file_extension": ".py",
   "mimetype": "text/x-python",
   "name": "python",
   "nbconvert_exporter": "python",
   "pygments_lexer": "ipython3",
   "version": "3.10.8"
  }
 },
 "nbformat": 4,
 "nbformat_minor": 5
}
